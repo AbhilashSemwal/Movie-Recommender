{
  "nbformat": 4,
  "nbformat_minor": 0,
  "metadata": {
    "colab": {
      "provenance": [],
      "toc_visible": true,
      "authorship_tag": "ABX9TyPgcIeDIiQn7YrtUneeKu9L",
      "include_colab_link": true
    },
    "kernelspec": {
      "name": "python3",
      "display_name": "Python 3"
    },
    "language_info": {
      "name": "python"
    }
  },
  "cells": [
    {
      "cell_type": "markdown",
      "metadata": {
        "id": "view-in-github",
        "colab_type": "text"
      },
      "source": [
        "<a href=\"https://colab.research.google.com/github/AbhilashSemwal/Movie-Recommender/blob/main/Untitled1.ipynb\" target=\"_parent\"><img src=\"https://colab.research.google.com/assets/colab-badge.svg\" alt=\"Open In Colab\"/></a>"
      ]
    },
    {
      "cell_type": "markdown",
      "source": [
        "# **Objective:**\n",
        "**`The objective of this project is to build a movie recommendation system that suggests movies to users based on their favorite movie`**"
      ],
      "metadata": {
        "id": "u9iosnz5gJO6"
      }
    },
    {
      "cell_type": "markdown",
      "source": [
        "# **Data Source:**\n",
        "**The dataset used for this project is the \"Movies Recommendation\" dataset from the YBI Foundation, which can be found on GitHub.**"
      ],
      "metadata": {
        "id": "SJlgE0vygmBZ"
      }
    },
    {
      "cell_type": "markdown",
      "source": [
        "# **Import LIbraries**"
      ],
      "metadata": {
        "id": "wvclRD_zOATb"
      }
    },
    {
      "cell_type": "code",
      "source": [],
      "metadata": {
        "id": "Eo5em-q5hBac"
      },
      "execution_count": null,
      "outputs": []
    },
    {
      "cell_type": "code",
      "execution_count": 37,
      "metadata": {
        "id": "pdbGmjNK4EAt"
      },
      "outputs": [],
      "source": [
        "import pandas as pd\n",
        "import numpy as np"
      ]
    },
    {
      "cell_type": "markdown",
      "source": [
        "# **Import Dataset**"
      ],
      "metadata": {
        "id": "bQx7XQGSOdzT"
      }
    },
    {
      "cell_type": "code",
      "source": [
        "#Load dataset\n",
        "dataset = \"https://github.com/YBI-Foundation/Dataset/raw/main/Movies%20Recommendation.csv\"\n",
        "df = pd.read_csv(dataset)\n",
        "\n",
        "#Display first few rows\n",
        "df.head()"
      ],
      "metadata": {
        "id": "nCfHBU6nOj6w"
      },
      "execution_count": null,
      "outputs": []
    },
    {
      "cell_type": "markdown",
      "source": [
        "# **Describe Data**"
      ],
      "metadata": {
        "id": "8E5MYjl5d4ew"
      }
    },
    {
      "cell_type": "code",
      "source": [
        "df.info()"
      ],
      "metadata": {
        "id": "6NUDMab4Op_y"
      },
      "execution_count": null,
      "outputs": []
    },
    {
      "cell_type": "code",
      "source": [
        "df.shape"
      ],
      "metadata": {
        "id": "TzQnBY-OOtAB"
      },
      "execution_count": null,
      "outputs": []
    },
    {
      "cell_type": "code",
      "source": [
        "df.columns"
      ],
      "metadata": {
        "id": "fJ_HJVBdOwq_"
      },
      "execution_count": null,
      "outputs": []
    },
    {
      "cell_type": "markdown",
      "source": [
        "# **Data Processing**"
      ],
      "metadata": {
        "id": "WiDkDH-QPkxY"
      }
    },
    {
      "cell_type": "code",
      "source": [
        "df_features = df[[\"Movie_Genre\",\"Movie_Keywords\",\"Movie_Tagline\",\"Movie_Cast\",\"Movie_Director\"]].fillna(\"\")"
      ],
      "metadata": {
        "id": "X57DwbY6PrEH"
      },
      "execution_count": 11,
      "outputs": []
    },
    {
      "cell_type": "code",
      "source": [
        "df_features.shape"
      ],
      "metadata": {
        "id": "xpqcVDlFPsQR"
      },
      "execution_count": null,
      "outputs": []
    },
    {
      "cell_type": "code",
      "source": [
        "df_features"
      ],
      "metadata": {
        "id": "KLyXj1ETPsJh"
      },
      "execution_count": null,
      "outputs": []
    },
    {
      "cell_type": "code",
      "source": [
        "x = df_features[\"Movie_Genre\"] + \" \" + df_features[\"Movie_Keywords\"] + \" \" + df_features[\"Movie_Tagline\"] + \" \" + df_features[\"Movie_Cast\"] + \" \" + df_features[\"Movie_Director\"]"
      ],
      "metadata": {
        "id": "zCwMviGvPsA5"
      },
      "execution_count": 14,
      "outputs": []
    },
    {
      "cell_type": "code",
      "source": [
        "x"
      ],
      "metadata": {
        "id": "UfBfq88uP-rh"
      },
      "execution_count": null,
      "outputs": []
    },
    {
      "cell_type": "code",
      "source": [
        "x.shape"
      ],
      "metadata": {
        "id": "eJ1sTQbaQArY"
      },
      "execution_count": null,
      "outputs": []
    },
    {
      "cell_type": "markdown",
      "source": [
        "**GET FEATURE TEXT CONVERSION**"
      ],
      "metadata": {
        "id": "BK-liRWnOoIQ"
      }
    },
    {
      "cell_type": "code",
      "source": [
        "from sklearn.feature_extraction.text import TfidfVectorizer"
      ],
      "metadata": {
        "id": "w5v2MFSLPSUA"
      },
      "execution_count": 17,
      "outputs": []
    },
    {
      "cell_type": "code",
      "source": [
        "tfidf = TfidfVectorizer()"
      ],
      "metadata": {
        "id": "s2LfKGXVPUhY"
      },
      "execution_count": 18,
      "outputs": []
    },
    {
      "cell_type": "code",
      "source": [
        "x = tfidf.fit_transform(x)"
      ],
      "metadata": {
        "id": "pAO2iaYJPUZ4"
      },
      "execution_count": 19,
      "outputs": []
    },
    {
      "cell_type": "code",
      "source": [
        "x.shape"
      ],
      "metadata": {
        "id": "4jsnJkzEPUQa"
      },
      "execution_count": null,
      "outputs": []
    },
    {
      "cell_type": "code",
      "source": [
        "print(x)"
      ],
      "metadata": {
        "id": "wl9KKkgeQXdx"
      },
      "execution_count": null,
      "outputs": []
    },
    {
      "cell_type": "markdown",
      "source": [
        "**GET SIMILARITY SCORE**"
      ],
      "metadata": {
        "id": "RzhEF_xNQaaB"
      }
    },
    {
      "cell_type": "code",
      "source": [
        "from sklearn.metrics.pairwise import cosine_similarity"
      ],
      "metadata": {
        "id": "tr_5-OCKQjGx"
      },
      "execution_count": 22,
      "outputs": []
    },
    {
      "cell_type": "code",
      "source": [
        "Similarity_score = cosine_similarity(x)"
      ],
      "metadata": {
        "id": "sqkp68SGQjXa"
      },
      "execution_count": 23,
      "outputs": []
    },
    {
      "cell_type": "code",
      "source": [
        "Similarity_score"
      ],
      "metadata": {
        "id": "EuQoL5wuQjK_"
      },
      "execution_count": null,
      "outputs": []
    },
    {
      "cell_type": "markdown",
      "source": [
        "**GET MOVIE NAME FROM THE USER AS INPUT AND VALIDATE**"
      ],
      "metadata": {
        "id": "N0CvH5ulQvnx"
      }
    },
    {
      "cell_type": "code",
      "source": [
        "Favourite_Movie_Name = input(\"Enter your favourite movie name : \")"
      ],
      "metadata": {
        "id": "syLLgIvNQwCC"
      },
      "execution_count": null,
      "outputs": []
    },
    {
      "cell_type": "code",
      "source": [
        "All_Movies_Title_List = df[\"Movie_Title\"].tolist()"
      ],
      "metadata": {
        "id": "7P16cNTBQ3SA"
      },
      "execution_count": 33,
      "outputs": []
    },
    {
      "cell_type": "code",
      "source": [
        "import difflib"
      ],
      "metadata": {
        "id": "i-4_r9_qQ3ED"
      },
      "execution_count": 34,
      "outputs": []
    },
    {
      "cell_type": "code",
      "source": [
        "Movie_Recommendation = difflib.get_close_matches(Favourite_Movie_Name, All_Movies_Title_List)\n",
        "print(Movie_Recommendation)"
      ],
      "metadata": {
        "id": "3xFilzmJQ_3v"
      },
      "execution_count": null,
      "outputs": []
    },
    {
      "cell_type": "code",
      "source": [
        "Close_Match = Movie_Recommendation[0]\n",
        "print(Close_Match)"
      ],
      "metadata": {
        "id": "_sH-fqOrRL0d"
      },
      "execution_count": null,
      "outputs": []
    },
    {
      "cell_type": "code",
      "source": [
        "Index_of_Close_Matches_Movie = df[df.Movie_Title == Close_Match][\"Movie_ID\"].values[0]\n",
        "print(Index_of_Close_Matches_Movie)"
      ],
      "metadata": {
        "id": "HBBcdc1ySVQB"
      },
      "execution_count": null,
      "outputs": []
    },
    {
      "cell_type": "code",
      "source": [
        "#getting a list of similar movies\n",
        "Recommendation_Score = list(enumerate(Similarity_score[Index_of_Close_Matches_Movie]))\n",
        "print(Recommendation_Score)"
      ],
      "metadata": {
        "id": "8U8789wlSUYi"
      },
      "execution_count": null,
      "outputs": []
    },
    {
      "cell_type": "code",
      "source": [
        "len(Recommendation_Score)"
      ],
      "metadata": {
        "id": "0q277hbcT_CM"
      },
      "execution_count": null,
      "outputs": []
    },
    {
      "cell_type": "markdown",
      "source": [
        "\n",
        "\n",
        "#                               **GET ALL MOVIES SORT BASED ON RECOMMENDATION SCORE**\n"
      ],
      "metadata": {
        "id": "Hk7gQXzjUDHC"
      }
    },
    {
      "cell_type": "code",
      "source": [
        "#sorting the movie based on their similarity score\n",
        "\n",
        "Sorted_Similar_Movies = sorted(Recommendation_Score, key = lambda x:x[1], reverse = True)\n",
        "print(Sorted_Similar_Movies)"
      ],
      "metadata": {
        "id": "-MK2yTSJUZ95"
      },
      "execution_count": null,
      "outputs": []
    },
    {
      "cell_type": "code",
      "source": [
        "#print the name of similar movies based on the index\n",
        "\n",
        "print(\"Top 30 Movies Suggested for You : \\n\")\n",
        "\n",
        "i = 1\n",
        "\n",
        "for movie in Sorted_Similar_Movies:\n",
        "  index = movie[0]\n",
        "  title_from_index = df[df.index == index][\"Movie_Title\"].values[0]\n",
        "  if (i<31):\n",
        "    print(i,\"_\",title_from_index)\n",
        "    i+=1"
      ],
      "metadata": {
        "id": "1yljLGdzVBvq"
      },
      "execution_count": null,
      "outputs": []
    },
    {
      "cell_type": "markdown",
      "source": [
        "##                                                  **TOP 10 MOVIE RECOMMENDATION SYSTEM**"
      ],
      "metadata": {
        "id": "kqc7wKBtW3Vz"
      }
    },
    {
      "cell_type": "code",
      "source": [
        "Movie_Name = input(\"Enter your favourite movie name :\")\n",
        "\n",
        "list_of_all_titles = df[\"Movie_Title\"].tolist()\n",
        "\n",
        "Find_Close_Match = difflib.get_close_matches(Movie_Name, list_of_all_titles)\n",
        "\n",
        "Close_Match = Find_Close_Match[0]\n",
        "\n",
        "Index_of_Movie = df[df.Movie_Title == Close_Match][\"Movie_ID\"].values[0]\n",
        "\n",
        "Recommendation_Score = list(enumerate(Similarity_score[Index_of_Movie]))\n",
        "\n",
        "Sorted_Similar_Movies = sorted(Recommendation_Score, key = lambda x:x[1], reverse = True)\n",
        "\n",
        "print(\"Top 10 Movie Suggestion For You :\\n\")\n",
        "\n",
        "i = 1\n",
        "\n",
        "for movie in Sorted_Similar_Movies:\n",
        "  index = movie[0]\n",
        "  title_from_index = df[df.Movie_ID == index][\"Movie_Title\"].values\n",
        "  if (i<11):\n",
        "    print(i, \"_\",title_from_index)\n",
        "    i+=1"
      ],
      "metadata": {
        "id": "_mULDogGXF3E"
      },
      "execution_count": null,
      "outputs": []
    }
  ]
}